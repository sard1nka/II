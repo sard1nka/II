{
 "cells": [
  {
   "cell_type": "code",
   "execution_count": null,
   "id": "c453e68d",
   "metadata": {},
   "outputs": [],
   "source": [
    "# 1.2 Пример. Выведите на печать и определите тип переменной\n",
    "x = 3+5.2*7\n",
    "y = None\n",
    "z = 'a', 5, 12.345, (2, 'b')\n",
    "df = [['Антонова Антонина', 34, 'ж'], ['Борисов Борис', 26, 'м']]\n",
    "A = {1, 'title', 2, 'content'}\n",
    "\n",
    "print(x, '|', type(x), '\\n', y, '|', type(y), '\\n',\n",
    "      z, '|', type(z), '\\n', df, '|', type(df), '\\n', A, '|', type(A))"
   ]
  },
  {
   "cell_type": "code",
   "execution_count": null,
   "id": "47a7911d",
   "metadata": {},
   "outputs": [],
   "source": [
    "# 1.3 Задание. Выведите на печать и определите тип переменной\n",
    "x = 5 >= 2\n",
    "A = {1, 3, 7, 8}\n",
    "B = {2, 4, 5, 10, 'apple'}\n",
    "C = A & B\n",
    "df = 'Антонова Антонина', 34, 'ж'\n",
    "z = 'type'\n",
    "D = [1, 'title', 2, 'content']\n",
    "\n",
    "print(x, '|', type(x), '\\n', A, '|', type(A), '\\n', B, '|', type(B), '\\n', C, '|', type(C), '\\n',\n",
    "      df, '|', type(df), '\\n', z, '|', type(z), '\\n', D, '|', type(D))"
   ]
  },
  {
   "cell_type": "code",
   "execution_count": 1,
   "id": "66834b69",
   "metadata": {},
   "outputs": [
    {
     "name": "stdout",
     "output_type": "stream",
     "text": [
      "x положительный\n"
     ]
    }
   ],
   "source": [
    "# 2.2 Пример. Вывести на экран является ли переменная х положительной, отрицательной или равна нулю\n",
    "x = 125\n",
    "if x<0:\n",
    "    print(\"x отрицательный\")\n",
    "elif x==0:\n",
    "    print(\"x равен нулю\")\n",
    "else:\n",
    "    print(\"x положительный\")"
   ]
  },
  {
   "cell_type": "code",
   "execution_count": null,
   "id": "51a856db",
   "metadata": {},
   "outputs": [],
   "source": [
    "# 2.3 Задание. Напишите код. Задается х, напечатать какому из интервалов принадлежит: (-infinity, -5), [-5, 5] или от (5, +infinity)\n",
    "print('x: ')\n",
    "x = int(input())\n",
    "if x < -5:\n",
    "    print('(-infinity, -5)')\n",
    "elif -5 <= x <= 5:\n",
    "    print('[-5, 5]')\n",
    "else:\n",
    "    print('(5, +infinity)')"
   ]
  },
  {
   "cell_type": "code",
   "execution_count": null,
   "id": "288327df",
   "metadata": {},
   "outputs": [],
   "source": [
    "# 3.2.1 Пример. Вывести все числа от 1 до 10 с шагом 3\n",
    "x = 1\n",
    "while x <= 10:\n",
    "    print(x)\n",
    "    x += 3"
   ]
  },
  {
   "cell_type": "code",
   "execution_count": null,
   "id": "09884351",
   "metadata": {},
   "outputs": [],
   "source": [
    "# 3.2.2 Пример. Задан список. Напечатать все элементы списка\n",
    "models = ['KNN', 'decision tree', 'linear model']\n",
    "for model in models:\n",
    "    print(model)"
   ]
  },
  {
   "cell_type": "code",
   "execution_count": null,
   "id": "03001155",
   "metadata": {},
   "outputs": [],
   "source": [
    "# 3.2.3 Пример. Создать список от 1 до 99 с шагом 7\n",
    "list_int = range(1, 100, 7)\n",
    "print(list(list_int))"
   ]
  },
  {
   "cell_type": "code",
   "execution_count": null,
   "id": "e8ba36fa",
   "metadata": {},
   "outputs": [],
   "source": [
    "# 3.2.4 Пример. Вывести на экран числа от 1 до 105 с шагом 25, используя функцию range()\n",
    "for i in range(5, 106, 25):\n",
    "    print(i)"
   ]
  },
  {
   "cell_type": "code",
   "execution_count": null,
   "id": "2c213b52",
   "metadata": {},
   "outputs": [],
   "source": [
    "# 3.2.5 Пример. Необходимо получить каждый k-й элемент массива a, начиная с элемента с индексом i (включительно) и заканчивая элементом с индексом j (не включительно), c шагом 2. Или переставить все элементы в обратном порядке.\n",
    "a = [1, 2, 3, 4, 5, 6, 7, 8 ,9]\n",
    "b = a[1:7:2]\n",
    "c = a[::-1]\n",
    "print(b)\n",
    "print(c)"
   ]
  },
  {
   "cell_type": "code",
   "execution_count": null,
   "id": "42aa6559",
   "metadata": {},
   "outputs": [],
   "source": [
    "# 3.3.1 Задание. Выведите числа из примера на while (3.2.1) в обратном порядке\n",
    "x = 10\n",
    "while x >= 1:\n",
    "    print(x)\n",
    "    x -= 3"
   ]
  },
  {
   "cell_type": "code",
   "execution_count": null,
   "id": "0568094c",
   "metadata": {},
   "outputs": [],
   "source": [
    "# 3.3.2 Задание. При решении задач машинного обучения часто в качестве объектов исследования выступает человек. Создайте список значимых характеристик (признаков)\n",
    "print(['рост', 'вес', 'пол'])"
   ]
  },
  {
   "cell_type": "code",
   "execution_count": null,
   "id": "4fcb68ec",
   "metadata": {},
   "outputs": [],
   "source": [
    "# 3.3.3 Задание. Создать список чисел от 2 до 15 с шагом 1.\n",
    "a = []\n",
    "for i in range(2, 16, 2):\n",
    "    a.append(i)\n",
    "print(a)"
   ]
  },
  {
   "cell_type": "code",
   "execution_count": null,
   "id": "09f94e39",
   "metadata": {},
   "outputs": [],
   "source": [
    "# 3.3.4 Задание. Выведите числа из примера на for c функцией range() (3.2.4) в обратном порядке\n",
    "for i in range(105, 4, -25):\n",
    "    print(i)"
   ]
  },
  {
   "cell_type": "code",
   "execution_count": null,
   "id": "1d375c67",
   "metadata": {},
   "outputs": [],
   "source": [
    "# 3.3.5 Задание. Срез. Напишите код, который все элементы массива x с четными индексами переставит в обратном порядке\n",
    "x = [0, 1, 2, 3, 4, 5, 6, 7, 8, 9]\n",
    "x[0::2] = reversed(x[0::2])\n",
    "print(x)"
   ]
  },
  {
   "cell_type": "code",
   "execution_count": null,
   "id": "f2d81980",
   "metadata": {},
   "outputs": [],
   "source": [
    "# 4.2.1 Пример. Рассчитать синус от е радиан и вывести результат на экран\n",
    "import math as m\n",
    "print(m.sin (m.e))"
   ]
  },
  {
   "cell_type": "code",
   "execution_count": null,
   "id": "7ccaca63",
   "metadata": {},
   "outputs": [],
   "source": [
    "# 4.2.2 Пример. Для функции sin(𝑥𝑒 cos(𝑥)) на интервале [0;10] с шагом 0,05 построить график функции, закрасить площадь под ним и вычислить значение\n",
    "from matplotlib import pyplot as plt\n",
    "import numpy as np\n",
    "\n",
    "marks = ['Неуд', 'Удовл', 'Хор', 'Отл']\n",
    "\n",
    "data = [3, 7, 8, 4]\n",
    "fig = plt.figure(figsize=(10, 7)) # Размер диаграммы\n",
    "plt.pie(data, labels = marks)\n",
    "plt.show()\n",
    "plt.grid()\n",
    "plt.scatter(marks, data)"
   ]
  },
  {
   "cell_type": "code",
   "execution_count": null,
   "id": "13321f06",
   "metadata": {},
   "outputs": [],
   "source": [
    "# 4.3.1 Задание. Сравните результаты, какие выводы можно сделать о значениях? Постройте точечную диаграмму рассения полученного ряда\n",
    "import random\n",
    "import statistics\n",
    "x = [random.random() for i in range(10)] # Задайте массив случайных значений из интервала(0; 1)\n",
    "medium = sum(x) / len(x) # Средние значения для массива\n",
    "median = statistics.median(x) # Медианные значения для массива\n",
    "\n",
    "fig, compare = plt.subplots(figsize = (10, 6))\n",
    "compare.scatter(x, x)\n",
    "plt.show()"
   ]
  },
  {
   "cell_type": "code",
   "execution_count": null,
   "id": "f99d5696",
   "metadata": {},
   "outputs": [],
   "source": [
    "# 4.3.2 Задание. Дана функция. Создать массив из 10 значений функции (x, например, изменяется от 1 до 10). Выделить срез первой половины массива и построить графики для основного массива – линейный и для среза – точечный\n",
    "from matplotlib import pyplot as plt\n",
    "from math import sqrt \n",
    "\n",
    "function = []\n",
    "for x in range(1,11): # Создать массив из 10 значений функции\n",
    "      function.append((sqrt(1 + math.e ** sqrt(x) + math.cos(x**2)))/abs(1- (math.sin(x))**3)) # Дана функция\n",
    "newfunction = function[:5] # Срез первой половины массива\n",
    "plt.plot(function) # Линейный график\n",
    "plt.show()\n",
    "fig, ax = plt.subplots(figsize=(10, 6)) # Точечный график\n",
    "ax.scatter(newfunction, newfunction)\n",
    "plt.show()"
   ]
  },
  {
   "cell_type": "code",
   "execution_count": null,
   "id": "f1398608",
   "metadata": {},
   "outputs": [],
   "source": [
    "# 4.3.3 Задание. Дана функция. Построить график на интервале (0,10) с шагом 1 с заливкой площади и найти эту площадь под ним. Для вычисления площади воспользуйте функции trapz() вычисляющей интеграл по правилу трапеции. Для ее корректной работы необходимо подключить следующие библиотеки:\n",
    "from numpy import trapz\n",
    "import numpy as np\n",
    "\n",
    "x = np.arange(0.0, 10)  # Построить график на интервале (0,10) с шагом 1\n",
    "y = np.abs(np.cos(x * np.exp(np.cos(x) + np.log(x+1)))) # Дана функция\n",
    "\n",
    "plt.grid()\n",
    "plt.plot(x, y, c = 'r')\n",
    "plt.fill_between(x,y)\n",
    "plt.show()\n",
    "\n",
    "print(trapz(y)) # Вычисление площади "
   ]
  },
  {
   "cell_type": "code",
   "execution_count": null,
   "id": "44505700",
   "metadata": {},
   "outputs": [],
   "source": [
    "# 4.3.4 Задание. Откройте статистические данные по стоимости акций Apple, Microsoft, Google за 12 месяцев 2021 г. Постройте 3 графика на плоскости и оцените их динамику. Подумайте, как можно улучшить читаемость результатов. Для начальных данных допустимо использовать следующий ресурс: https://finance.yahoo.com\n",
    "Apple = [random.randint(140,150) for i in range(12)]\n",
    "Google = [random.randint(140,160) for i in range(12)]\n",
    "Microsoft = [random.randint(120,150) for i in range(12)]\n",
    "\n",
    "plt.plot(Apple)\n",
    "plt.plot(Google)\n",
    "plt.plot(Microsoft)\n",
    "\n",
    "plt.show()"
   ]
  },
  {
   "cell_type": "code",
   "execution_count": null,
   "id": "01f3dd96",
   "metadata": {},
   "outputs": [],
   "source": [
    "# 4.3.5 Задание. Создайте простейший калькулятор, включающий основные действия для двух переменных ′ + ′, ′ − ′, ′ ∙ ′, ′ ÷ ′, а также вычисление следующих функций: e^(x+y), sin(x + y), cos(x + y) , x^y\n",
    "from math import *\n",
    "\n",
    "print('Input x')\n",
    "x = int(input())\n",
    "print('Input y')\n",
    "y = int(input())\n",
    "\n",
    "print(x+y)\n",
    "print(x-y)\n",
    "print(x*y)\n",
    "print(x/y)\n",
    "print(e**(x+y))\n",
    "print(sin(x+y))\n",
    "print(cos(x+y))\n",
    "print(x**y)"
   ]
  }
 ],
 "metadata": {
  "kernelspec": {
   "display_name": "Python 3 (ipykernel)",
   "language": "python",
   "name": "python3"
  },
  "language_info": {
   "codemirror_mode": {
    "name": "ipython",
    "version": 3
   },
   "file_extension": ".py",
   "mimetype": "text/x-python",
   "name": "python",
   "nbconvert_exporter": "python",
   "pygments_lexer": "ipython3",
   "version": "3.9.13"
  }
 },
 "nbformat": 4,
 "nbformat_minor": 5
}
